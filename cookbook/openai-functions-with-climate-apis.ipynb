{
 "cells": [
  {
   "cell_type": "markdown",
   "id": "7a313eae-03e9-454d-84c3-c3c0c0c00dd4",
   "metadata": {},
   "source": [
    "## OpenAI Functions with Climate APIs\n",
    "In this notebook we create a quick start for adding weather and air quality APIs to our LLM app built using OpenAI APIs. "
   ]
  },
  {
   "cell_type": "code",
   "execution_count": 8,
   "id": "57b387ce-c54d-4019-816e-e49e7724f9fb",
   "metadata": {},
   "outputs": [],
   "source": [
    "import sys\n",
    "import os\n",
    "import json\n",
    "import requests\n",
    "\n",
    "module_path = \"../code\"\n",
    "sys.path.append(os.path.abspath(module_path))\n",
    "from helpers import genapi, notebook\n",
    "from functions import climate"
   ]
  },
  {
   "cell_type": "code",
   "execution_count": 9,
   "id": "f4679f38-8d28-495d-8ee7-5e3e5beed5ea",
   "metadata": {},
   "outputs": [],
   "source": [
    "functions = climate.functions\n",
    "function_names = {\n",
    "    \"weather\": climate.weather,\n",
    "    \"air_quality\": climate.air_quality\n",
    "}"
   ]
  },
  {
   "cell_type": "code",
   "execution_count": 10,
   "id": "a7b8950f-8779-4a1f-a284-b054e8ba9c0c",
   "metadata": {},
   "outputs": [],
   "source": [
    "messages = []\n",
    "messages.append({\"role\": \"system\", \"content\": '''Don't make assumptions about what values to plug into functions. \n",
    "    Ask for clarification if a user request is ambiguous.'''})"
   ]
  },
  {
   "cell_type": "code",
   "execution_count": 11,
   "id": "6c904dc7-cb19-46da-9b66-d960c1b98286",
   "metadata": {},
   "outputs": [
    {
     "name": "stdout",
     "output_type": "stream",
     "text": [
      "\u001b[34massistant: Sure, could you please provide me with the city, state, and country for which you\n",
      "would like to know the weather?\n",
      "\u001b[0m\n"
     ]
    }
   ],
   "source": [
    "messages.append({\"role\": \"user\", \"content\": \"What's the weather today?\"})\n",
    "messages = genapi.chat(messages, function_names, functions)\n",
    "notebook.print_chat(messages)"
   ]
  },
  {
   "cell_type": "code",
   "execution_count": 12,
   "id": "4e995aef-79d4-4b26-8af9-3ac827a39d82",
   "metadata": {},
   "outputs": [
    {
     "name": "stdout",
     "output_type": "stream",
     "text": [
      "\u001b[34massistant: The current weather in Sunnyvale, CA is overcast clouds with a temperature of 65.5\n",
      "degrees Fahrenheit.\n",
      "\u001b[0m\n"
     ]
    }
   ],
   "source": [
    "messages.append({\"role\": \"user\", \"content\": \"I live in Sunnyvale, CA.\"})\n",
    "messages = genapi.chat(messages, function_names, functions)\n",
    "notebook.print_chat(messages)"
   ]
  },
  {
   "cell_type": "code",
   "execution_count": 13,
   "id": "bdc1ebda-538d-44d1-80e2-0a9fe5fe50ad",
   "metadata": {},
   "outputs": [
    {
     "name": "stdout",
     "output_type": "stream",
     "text": [
      "\u001b[34massistant: The current weather in Sunnyvale, CA is overcast clouds with a temperature of 18.6\n",
      "degrees Celsius.\n",
      "\u001b[0m\n"
     ]
    }
   ],
   "source": [
    "messages.append({\"role\": \"user\", \"content\": \"in Metric units please.\"})\n",
    "messages = genapi.chat(messages, function_names, functions)\n",
    "notebook.print_chat(messages)"
   ]
  },
  {
   "cell_type": "code",
   "execution_count": 14,
   "id": "84796278-86f8-4b17-b036-a018985f6dbd",
   "metadata": {},
   "outputs": [
    {
     "name": "stdout",
     "output_type": "stream",
     "text": [
      "\u001b[34massistant: The current air quality in Sunnyvale, California is 8 AQI.\n",
      "\u001b[0m\n"
     ]
    }
   ],
   "source": [
    "messages.append({\"role\": \"user\", \"content\": \"and how is the air quality here.\"})\n",
    "messages = genapi.chat(messages, function_names, functions)\n",
    "notebook.print_chat(messages)"
   ]
  },
  {
   "cell_type": "code",
   "execution_count": 15,
   "id": "153f83bf-fd6d-498b-afab-8a5a7b7a3d5b",
   "metadata": {},
   "outputs": [
    {
     "name": "stdout",
     "output_type": "stream",
     "text": [
      "\u001b[34massistant: The current weather in Boston, MA is scattered clouds with a temperature of 47.7\n",
      "degrees Fahrenheit. The air quality in Boston is 16 AQI.\n",
      "\u001b[0m\n"
     ]
    }
   ],
   "source": [
    "messages.append({\"role\": \"user\", \"content\": \"How is the weather and air quality in Boston, MA?\"})\n",
    "messages = genapi.chat(messages, function_names, functions)\n",
    "notebook.print_chat(messages)"
   ]
  },
  {
   "cell_type": "code",
   "execution_count": 16,
   "id": "9df12352-3271-4fd4-abc9-82bf9cf2860a",
   "metadata": {},
   "outputs": [
    {
     "name": "stdout",
     "output_type": "stream",
     "text": [
      "\u001b[31msystem: Don't make assumptions about what values to plug into functions.\n",
      "    Ask for clarification if a user request is ambiguous.\n",
      "\u001b[0m\n",
      "\u001b[32muser: What's the weather today?\n",
      "\u001b[0m\n",
      "\u001b[34massistant: Sure, could you please provide me with the city, state, and country for which you\n",
      "would like to know the weather?\n",
      "\u001b[0m\n",
      "\u001b[32muser: I live in Sunnyvale, CA.\n",
      "\u001b[0m\n",
      "\u001b[35mfunction (weather): {\"location\": \"Sunnyvale, CA, USA\", \"temperature\": 65.5, \"units\":\n",
      "\"Fahrenheit\", \"forecast\": \"overcast clouds\"}\n",
      "\u001b[0m\n",
      "\u001b[34massistant: The current weather in Sunnyvale, CA is overcast clouds with a temperature of 65.5\n",
      "degrees Fahrenheit.\n",
      "\u001b[0m\n",
      "\u001b[32muser: in Metric units please.\n",
      "\u001b[0m\n",
      "\u001b[35mfunction (weather): {\"location\": \"Sunnyvale, CA, USA\", \"temperature\": 18.6, \"units\": \"Celsius\",\n",
      "\"forecast\": \"overcast clouds\"}\n",
      "\u001b[0m\n",
      "\u001b[34massistant: The current weather in Sunnyvale, CA is overcast clouds with a temperature of 18.6\n",
      "degrees Celsius.\n",
      "\u001b[0m\n",
      "\u001b[32muser: and how is the air quality here.\n",
      "\u001b[0m\n",
      "\u001b[35mfunction (air_quality): {\"location\": \"Sunnyvale, California, USA\", \"air_quality\": \"8 AQI\"}\n",
      "\u001b[0m\n",
      "\u001b[34massistant: The current air quality in Sunnyvale, California is 8 AQI.\n",
      "\u001b[0m\n",
      "\u001b[32muser: How is the weather and air quality in Boston, MA?\n",
      "\u001b[0m\n",
      "\u001b[35mfunction (weather): {\"location\": \"Boston, MA, USA\", \"temperature\": 47.7, \"units\": \"Fahrenheit\",\n",
      "\"forecast\": \"scattered clouds\"}\n",
      "\u001b[0m\n",
      "\u001b[35mfunction (air_quality): {\"location\": \"Boston, Massachusetts, USA\", \"air_quality\": \"16 AQI\"}\n",
      "\u001b[0m\n",
      "\u001b[34massistant: The current weather in Boston, MA is scattered clouds with a temperature of 47.7\n",
      "degrees Fahrenheit. The air quality in Boston is 16 AQI.\n",
      "\u001b[0m\n"
     ]
    }
   ],
   "source": [
    "notebook.print_chat(messages, all=True)"
   ]
  },
  {
   "cell_type": "code",
   "execution_count": 17,
   "id": "05849200-0cff-44ea-bf02-c20b6067a6a5",
   "metadata": {},
   "outputs": [
    {
     "name": "stdout",
     "output_type": "stream",
     "text": [
      "The air quality in Austin, Texas is currently at a level of 12 AQI (Air Quality Index). This indicates that the air quality is considered good, and poses little to no risk to the general population.\n"
     ]
    }
   ],
   "source": [
    "act_messages = [{\"role\": \"user\", \"content\": \"How is the air quality in Austin, Texas?\"}]\n",
    "print(genapi.act(act_messages, function_names, functions))"
   ]
  }
 ],
 "metadata": {
  "kernelspec": {
   "display_name": "Python 3 (ipykernel)",
   "language": "python",
   "name": "python3"
  },
  "language_info": {
   "codemirror_mode": {
    "name": "ipython",
    "version": 3
   },
   "file_extension": ".py",
   "mimetype": "text/x-python",
   "name": "python",
   "nbconvert_exporter": "python",
   "pygments_lexer": "ipython3",
   "version": "3.10.0"
  }
 },
 "nbformat": 4,
 "nbformat_minor": 5
}

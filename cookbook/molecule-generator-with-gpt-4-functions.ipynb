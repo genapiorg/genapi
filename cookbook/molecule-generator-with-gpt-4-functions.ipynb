{
 "cells": [
  {
   "attachments": {},
   "cell_type": "markdown",
   "id": "74f483a2-2d02-4ced-8bdb-523ef84cf7cd",
   "metadata": {},
   "source": [
    "## Molecule Inventor with GPT-4 Functions"
   ]
  },
  {
   "cell_type": "code",
   "execution_count": null,
   "id": "7c3cb19e-9293-40b7-a763-cf2b0fec4198",
   "metadata": {},
   "outputs": [],
   "source": [
    "import sys\n",
    "import os\n",
    "import json\n",
    "import requests\n",
    "\n",
    "module_path = \"../code\"\n",
    "sys.path.append(os.path.abspath(module_path))\n",
    "from helpers import genapi, notebook\n",
    "from functions import render"
   ]
  },
  {
   "cell_type": "code",
   "execution_count": 94,
   "id": "459e462f-8d97-4021-a958-b426bb621fba",
   "metadata": {},
   "outputs": [],
   "source": [
    "functions = render.functions\n",
    "\n",
    "function_names = {\n",
    "    \"molecule\": render.molecule,\n",
    "}"
   ]
  },
  {
   "cell_type": "code",
   "execution_count": 95,
   "id": "ef06ecd4-ada2-483e-a29f-ec4f348fa156",
   "metadata": {},
   "outputs": [],
   "source": [
    "genapi.GPT_MODEL = \"gpt-4-turbo-0613\""
   ]
  },
  {
   "cell_type": "code",
   "execution_count": 96,
   "id": "a7b8950f-8779-4a1f-a284-b054e8ba9c0c",
   "metadata": {},
   "outputs": [],
   "source": [
    "messages = []\n",
    "messages.append(\n",
    "    {\n",
    "        \"role\": \"system\", \n",
    "        \"content\": '''Ask the user for arguments when calling a function. \n",
    "        Respond after understanding function response and user intent, if they expect,\n",
    "        function response only or\n",
    "        function response and your response.\n",
    "        Don't call the same function more than once for each user prompt.\n",
    "        Remain crisp and to the point in your responses.'''\n",
    "    })"
   ]
  },
  {
   "cell_type": "code",
   "execution_count": 97,
   "id": "8d510e86-1d64-400a-bd9e-fc2cf7a9ac37",
   "metadata": {},
   "outputs": [
    {
     "data": {
      "application/3dmoljs_load.v0": "<div id=\"3dmolviewer_1697301466818368\"  style=\"position: relative; width: 300px; height: 300px;\">\n        <p id=\"3dmolwarning_1697301466818368\" style=\"background-color:#ffcccc;color:black\">You appear to be running in JupyterLab (or JavaScript failed to load for some other reason).  You need to install the 3dmol extension: <br>\n        <tt>jupyter labextension install jupyterlab_3dmol</tt></p>\n        </div>\n<script>\n\nvar loadScriptAsync = function(uri){\n  return new Promise((resolve, reject) => {\n    //this is to ignore the existence of requirejs amd\n    var savedexports, savedmodule;\n    if (typeof exports !== 'undefined') savedexports = exports;\n    else exports = {}\n    if (typeof module !== 'undefined') savedmodule = module;\n    else module = {}\n\n    var tag = document.createElement('script');\n    tag.src = uri;\n    tag.async = true;\n    tag.onload = () => {\n        exports = savedexports;\n        module = savedmodule;\n        resolve();\n    };\n  var firstScriptTag = document.getElementsByTagName('script')[0];\n  firstScriptTag.parentNode.insertBefore(tag, firstScriptTag);\n});\n};\n\nif(typeof $3Dmolpromise === 'undefined') {\n$3Dmolpromise = null;\n  $3Dmolpromise = loadScriptAsync('https://cdnjs.cloudflare.com/ajax/libs/3Dmol/2.0.4/3Dmol-min.js');\n}\n\nvar viewer_1697301466818368 = null;\nvar warn = document.getElementById(\"3dmolwarning_1697301466818368\");\nif(warn) {\n    warn.parentNode.removeChild(warn);\n}\n$3Dmolpromise.then(function() {\nviewer_1697301466818368 = $3Dmol.createViewer(document.getElementById(\"3dmolviewer_1697301466818368\"),{backgroundColor:\"white\"});\nviewer_1697301466818368.zoomTo();\n\tviewer_1697301466818368.addModel(\"\\n     RDKit          2D\\n\\n 33 36  0  0  0  0  0  0  0  0999 V2000\\n   -5.2997   -4.7106    0.0000 C   0  0  0  0  0  0  0  0  0  0  0  0\\n   -4.3865   -3.5206    0.0000 C   0  0  0  0  0  0  0  0  0  0  0  0\\n   -3.7014   -2.3574    0.0000 C   0  0  0  0  0  0  0  0  0  0  0  0\\n   -5.5765   -2.6074    0.0000 C   0  0  0  0  0  0  0  0  0  0  0  0\\n   -3.1965   -4.4337    0.0000 C   0  0  0  0  0  0  0  0  0  0  0  0\\n   -1.8107   -3.8597    0.0000 N   0  0  0  0  0  0  0  0  0  0  0  0\\n   -0.7500   -4.9204    0.0000 C   0  0  0  0  0  0  0  0  0  0  0  0\\n   -1.3240   -6.3062    0.0000 O   0  0  0  0  0  0  0  0  0  0  0  0\\n    0.7500   -4.9204    0.0000 C   0  0  0  0  0  0  0  0  0  0  0  0\\n    1.1382   -6.3692    0.0000 C   0  0  0  0  0  0  0  0  0  0  0  0\\n    2.5871   -6.7575    0.0000 C   0  0  0  0  0  0  0  0  0  0  0  0\\n    3.6478   -5.6968    0.0000 C   0  0  0  0  0  0  0  0  0  0  0  0\\n    5.0967   -6.0850    0.0000 N   0  0  0  0  0  0  0  0  0  0  0  0\\n    5.4849   -7.5339    0.0000 C   0  0  0  0  0  0  0  0  0  0  0  0\\n    4.4242   -8.5946    0.0000 O   0  0  0  0  0  0  0  0  0  0  0  0\\n    6.9338   -7.9222    0.0000 C   0  0  0  0  0  0  0  0  0  0  0  0\\n    7.3220   -9.3711    0.0000 C   0  0  0  0  0  0  0  0  0  0  0  0\\n    8.7709   -9.7593    0.0000 C   0  0  0  0  0  0  0  0  0  0  0  0\\n    9.8316   -8.6986    0.0000 C   0  0  0  0  0  0  0  0  0  0  0  0\\n   11.2804   -9.0868    0.0000 C   0  0  0  0  0  0  0  0  0  0  0  0\\n    9.4433   -7.2497    0.0000 C   0  0  0  0  0  0  0  0  0  0  0  0\\n    7.9944   -6.8615    0.0000 C   0  0  0  0  0  0  0  0  0  0  0  0\\n    3.2595   -4.2479    0.0000 C   0  0  0  0  0  0  0  0  0  0  0  0\\n    1.8107   -3.8597    0.0000 C   0  0  0  0  0  0  0  0  0  0  0  0\\n    1.8107   -2.3597    0.0000 O   0  0  0  0  0  0  0  0  0  0  0  0\\n    0.7500   -1.2990    0.0000 C   0  0  0  0  0  0  0  0  0  0  0  0\\n    1.5000    0.0000    0.0000 C   0  0  0  0  0  0  0  0  0  0  0  0\\n    0.7500    1.2990    0.0000 C   0  0  0  0  0  0  0  0  0  0  0  0\\n   -0.7500    1.2990    0.0000 C   0  0  0  0  0  0  0  0  0  0  0  0\\n   -1.5000    0.0000    0.0000 C   0  0  0  0  0  0  0  0  0  0  0  0\\n   -0.7500   -1.2990    0.0000 C   0  0  0  0  0  0  0  0  0  0  0  0\\n   -1.8107   -2.3597    0.0000 C   0  0  0  0  0  0  0  0  0  0  0  0\\n   -2.9856   -1.6949    0.0000 O   0  0  0  0  0  0  0  0  0  0  0  0\\n  1  2  1  0\\n  2  3  1  0\\n  2  4  1  0\\n  2  5  1  0\\n  5  6  1  0\\n  6  7  1  0\\n  7  8  2  0\\n  7  9  1  0\\n  9 10  2  0\\n 10 11  1  0\\n 11 12  2  0\\n 12 13  1  0\\n 13 14  1  0\\n 14 15  2  0\\n 14 16  1  0\\n 16 17  2  0\\n 17 18  1  0\\n 18 19  2  0\\n 19 20  1  0\\n 19 21  1  0\\n 21 22  2  0\\n 12 23  1  0\\n 23 24  2  0\\n 24 25  1  0\\n 25 26  1  0\\n 26 27  2  0\\n 27 28  1  0\\n 28 29  2  0\\n 29 30  1  0\\n 30 31  2  0\\n 31 32  1  0\\n 32 33  2  0\\n 32  6  1  0\\n 24  9  1  0\\n 31 26  1  0\\n 22 16  1  0\\nM  END\\n\");\n\tviewer_1697301466818368.setStyle({\"stick\": {}, \"sphere\": {\"radius\": 0.5}});\n\tviewer_1697301466818368.zoomTo();\nviewer_1697301466818368.render();\n});\n</script>",
      "text/html": [
       "<div id=\"3dmolviewer_1697301466818368\"  style=\"position: relative; width: 300px; height: 300px;\">\n",
       "        <p id=\"3dmolwarning_1697301466818368\" style=\"background-color:#ffcccc;color:black\">You appear to be running in JupyterLab (or JavaScript failed to load for some other reason).  You need to install the 3dmol extension: <br>\n",
       "        <tt>jupyter labextension install jupyterlab_3dmol</tt></p>\n",
       "        </div>\n",
       "<script>\n",
       "\n",
       "var loadScriptAsync = function(uri){\n",
       "  return new Promise((resolve, reject) => {\n",
       "    //this is to ignore the existence of requirejs amd\n",
       "    var savedexports, savedmodule;\n",
       "    if (typeof exports !== 'undefined') savedexports = exports;\n",
       "    else exports = {}\n",
       "    if (typeof module !== 'undefined') savedmodule = module;\n",
       "    else module = {}\n",
       "\n",
       "    var tag = document.createElement('script');\n",
       "    tag.src = uri;\n",
       "    tag.async = true;\n",
       "    tag.onload = () => {\n",
       "        exports = savedexports;\n",
       "        module = savedmodule;\n",
       "        resolve();\n",
       "    };\n",
       "  var firstScriptTag = document.getElementsByTagName('script')[0];\n",
       "  firstScriptTag.parentNode.insertBefore(tag, firstScriptTag);\n",
       "});\n",
       "};\n",
       "\n",
       "if(typeof $3Dmolpromise === 'undefined') {\n",
       "$3Dmolpromise = null;\n",
       "  $3Dmolpromise = loadScriptAsync('https://cdnjs.cloudflare.com/ajax/libs/3Dmol/2.0.4/3Dmol-min.js');\n",
       "}\n",
       "\n",
       "var viewer_1697301466818368 = null;\n",
       "var warn = document.getElementById(\"3dmolwarning_1697301466818368\");\n",
       "if(warn) {\n",
       "    warn.parentNode.removeChild(warn);\n",
       "}\n",
       "$3Dmolpromise.then(function() {\n",
       "viewer_1697301466818368 = $3Dmol.createViewer(document.getElementById(\"3dmolviewer_1697301466818368\"),{backgroundColor:\"white\"});\n",
       "viewer_1697301466818368.zoomTo();\n",
       "\tviewer_1697301466818368.addModel(\"\\n     RDKit          2D\\n\\n 33 36  0  0  0  0  0  0  0  0999 V2000\\n   -5.2997   -4.7106    0.0000 C   0  0  0  0  0  0  0  0  0  0  0  0\\n   -4.3865   -3.5206    0.0000 C   0  0  0  0  0  0  0  0  0  0  0  0\\n   -3.7014   -2.3574    0.0000 C   0  0  0  0  0  0  0  0  0  0  0  0\\n   -5.5765   -2.6074    0.0000 C   0  0  0  0  0  0  0  0  0  0  0  0\\n   -3.1965   -4.4337    0.0000 C   0  0  0  0  0  0  0  0  0  0  0  0\\n   -1.8107   -3.8597    0.0000 N   0  0  0  0  0  0  0  0  0  0  0  0\\n   -0.7500   -4.9204    0.0000 C   0  0  0  0  0  0  0  0  0  0  0  0\\n   -1.3240   -6.3062    0.0000 O   0  0  0  0  0  0  0  0  0  0  0  0\\n    0.7500   -4.9204    0.0000 C   0  0  0  0  0  0  0  0  0  0  0  0\\n    1.1382   -6.3692    0.0000 C   0  0  0  0  0  0  0  0  0  0  0  0\\n    2.5871   -6.7575    0.0000 C   0  0  0  0  0  0  0  0  0  0  0  0\\n    3.6478   -5.6968    0.0000 C   0  0  0  0  0  0  0  0  0  0  0  0\\n    5.0967   -6.0850    0.0000 N   0  0  0  0  0  0  0  0  0  0  0  0\\n    5.4849   -7.5339    0.0000 C   0  0  0  0  0  0  0  0  0  0  0  0\\n    4.4242   -8.5946    0.0000 O   0  0  0  0  0  0  0  0  0  0  0  0\\n    6.9338   -7.9222    0.0000 C   0  0  0  0  0  0  0  0  0  0  0  0\\n    7.3220   -9.3711    0.0000 C   0  0  0  0  0  0  0  0  0  0  0  0\\n    8.7709   -9.7593    0.0000 C   0  0  0  0  0  0  0  0  0  0  0  0\\n    9.8316   -8.6986    0.0000 C   0  0  0  0  0  0  0  0  0  0  0  0\\n   11.2804   -9.0868    0.0000 C   0  0  0  0  0  0  0  0  0  0  0  0\\n    9.4433   -7.2497    0.0000 C   0  0  0  0  0  0  0  0  0  0  0  0\\n    7.9944   -6.8615    0.0000 C   0  0  0  0  0  0  0  0  0  0  0  0\\n    3.2595   -4.2479    0.0000 C   0  0  0  0  0  0  0  0  0  0  0  0\\n    1.8107   -3.8597    0.0000 C   0  0  0  0  0  0  0  0  0  0  0  0\\n    1.8107   -2.3597    0.0000 O   0  0  0  0  0  0  0  0  0  0  0  0\\n    0.7500   -1.2990    0.0000 C   0  0  0  0  0  0  0  0  0  0  0  0\\n    1.5000    0.0000    0.0000 C   0  0  0  0  0  0  0  0  0  0  0  0\\n    0.7500    1.2990    0.0000 C   0  0  0  0  0  0  0  0  0  0  0  0\\n   -0.7500    1.2990    0.0000 C   0  0  0  0  0  0  0  0  0  0  0  0\\n   -1.5000    0.0000    0.0000 C   0  0  0  0  0  0  0  0  0  0  0  0\\n   -0.7500   -1.2990    0.0000 C   0  0  0  0  0  0  0  0  0  0  0  0\\n   -1.8107   -2.3597    0.0000 C   0  0  0  0  0  0  0  0  0  0  0  0\\n   -2.9856   -1.6949    0.0000 O   0  0  0  0  0  0  0  0  0  0  0  0\\n  1  2  1  0\\n  2  3  1  0\\n  2  4  1  0\\n  2  5  1  0\\n  5  6  1  0\\n  6  7  1  0\\n  7  8  2  0\\n  7  9  1  0\\n  9 10  2  0\\n 10 11  1  0\\n 11 12  2  0\\n 12 13  1  0\\n 13 14  1  0\\n 14 15  2  0\\n 14 16  1  0\\n 16 17  2  0\\n 17 18  1  0\\n 18 19  2  0\\n 19 20  1  0\\n 19 21  1  0\\n 21 22  2  0\\n 12 23  1  0\\n 23 24  2  0\\n 24 25  1  0\\n 25 26  1  0\\n 26 27  2  0\\n 27 28  1  0\\n 28 29  2  0\\n 29 30  1  0\\n 30 31  2  0\\n 31 32  1  0\\n 32 33  2  0\\n 32  6  1  0\\n 24  9  1  0\\n 31 26  1  0\\n 22 16  1  0\\nM  END\\n\");\n",
       "\tviewer_1697301466818368.setStyle({\"stick\": {}, \"sphere\": {\"radius\": 0.5}});\n",
       "\tviewer_1697301466818368.zoomTo();\n",
       "viewer_1697301466818368.render();\n",
       "});\n",
       "</script>"
      ]
     },
     "metadata": {},
     "output_type": "display_data"
    },
    {
     "name": "stdout",
     "output_type": "stream",
     "text": [
      "\u001b[34massistant:\n",
      "\u001b[0m\n"
     ]
    },
    {
     "data": {
      "text/markdown": [
       "I have invented a new molecule that has the potential to make a material solid at room temperature. However, further testing and analysis would be required to determine its exact properties and feasibility.\n"
      ],
      "text/plain": [
       "<IPython.core.display.Markdown object>"
      ]
     },
     "metadata": {},
     "output_type": "display_data"
    }
   ],
   "source": [
    "messages.append({\"role\": \"user\", \n",
    "                 \"content\": '''Invent a new molecule which makes a material solid at room temperature.'''})\n",
    "messages = genapi.chat(messages, function_names, functions)\n",
    "notebook.print_chat(messages)"
   ]
  },
  {
   "cell_type": "code",
   "execution_count": 98,
   "id": "9a8144a7-fc22-41e2-bc44-214caab63361",
   "metadata": {},
   "outputs": [
    {
     "data": {
      "application/3dmoljs_load.v0": "<div id=\"3dmolviewer_1697301471549115\"  style=\"position: relative; width: 300px; height: 300px;\">\n        <p id=\"3dmolwarning_1697301471549115\" style=\"background-color:#ffcccc;color:black\">You appear to be running in JupyterLab (or JavaScript failed to load for some other reason).  You need to install the 3dmol extension: <br>\n        <tt>jupyter labextension install jupyterlab_3dmol</tt></p>\n        </div>\n<script>\n\nvar loadScriptAsync = function(uri){\n  return new Promise((resolve, reject) => {\n    //this is to ignore the existence of requirejs amd\n    var savedexports, savedmodule;\n    if (typeof exports !== 'undefined') savedexports = exports;\n    else exports = {}\n    if (typeof module !== 'undefined') savedmodule = module;\n    else module = {}\n\n    var tag = document.createElement('script');\n    tag.src = uri;\n    tag.async = true;\n    tag.onload = () => {\n        exports = savedexports;\n        module = savedmodule;\n        resolve();\n    };\n  var firstScriptTag = document.getElementsByTagName('script')[0];\n  firstScriptTag.parentNode.insertBefore(tag, firstScriptTag);\n});\n};\n\nif(typeof $3Dmolpromise === 'undefined') {\n$3Dmolpromise = null;\n  $3Dmolpromise = loadScriptAsync('https://cdnjs.cloudflare.com/ajax/libs/3Dmol/2.0.4/3Dmol-min.js');\n}\n\nvar viewer_1697301471549115 = null;\nvar warn = document.getElementById(\"3dmolwarning_1697301471549115\");\nif(warn) {\n    warn.parentNode.removeChild(warn);\n}\n$3Dmolpromise.then(function() {\nviewer_1697301471549115 = $3Dmol.createViewer(document.getElementById(\"3dmolviewer_1697301471549115\"),{backgroundColor:\"white\"});\nviewer_1697301471549115.zoomTo();\n\tviewer_1697301471549115.addModel(\"\\n     RDKit          2D\\n\\n 42 45  0  0  0  0  0  0  0  0999 V2000\\n    5.2997   -4.7106    0.0000 C   0  0  0  0  0  0  0  0  0  0  0  0\\n    4.3865   -3.5206    0.0000 C   0  0  0  0  0  0  0  0  0  0  0  0\\n    3.7014   -2.3574    0.0000 C   0  0  0  0  0  0  0  0  0  0  0  0\\n    5.5765   -2.6074    0.0000 C   0  0  0  0  0  0  0  0  0  0  0  0\\n    3.1965   -4.4337    0.0000 C   0  0  0  0  0  0  0  0  0  0  0  0\\n    1.8107   -3.8597    0.0000 N   0  0  0  0  0  0  0  0  0  0  0  0\\n    1.8107   -2.3597    0.0000 C   0  0  0  0  0  0  0  0  0  0  0  0\\n    2.9856   -1.6949    0.0000 O   0  0  0  0  0  0  0  0  0  0  0  0\\n    0.7500   -1.2990    0.0000 C   0  0  0  0  0  0  0  0  0  0  0  0\\n    1.5000    0.0000    0.0000 C   0  0  0  0  0  0  0  0  0  0  0  0\\n    0.7500    1.2990    0.0000 C   0  0  0  0  0  0  0  0  0  0  0  0\\n   -0.7500    1.2990    0.0000 C   0  0  0  0  0  0  0  0  0  0  0  0\\n   -1.5000    2.5981    0.0000 N   0  0  0  0  0  0  0  0  0  0  0  0\\n   -0.7500    3.8971    0.0000 C   0  0  0  0  0  0  0  0  0  0  0  0\\n    0.7500    3.8971    0.0000 O   0  0  0  0  0  0  0  0  0  0  0  0\\n   -1.5000    5.1962    0.0000 C   0  0  0  0  0  0  0  0  0  0  0  0\\n   -0.7500    6.4952    0.0000 C   0  0  0  0  0  0  0  0  0  0  0  0\\n   -1.5000    7.7942    0.0000 C   0  0  0  0  0  0  0  0  0  0  0  0\\n   -3.0000    7.7942    0.0000 C   0  0  0  0  0  0  0  0  0  0  0  0\\n   -3.7500    9.0933    0.0000 C   0  0  0  0  0  0  0  0  0  0  0  0\\n   -3.7500    6.4952    0.0000 C   0  0  0  0  0  0  0  0  0  0  0  0\\n   -3.0000    5.1962    0.0000 C   0  0  0  0  0  0  0  0  0  0  0  0\\n   -1.5000    0.0000    0.0000 C   0  0  0  0  0  0  0  0  0  0  0  0\\n   -0.7500   -1.2990    0.0000 C   0  0  0  0  0  0  0  0  0  0  0  0\\n   -1.8107   -2.3597    0.0000 O   0  0  0  0  0  0  0  0  0  0  0  0\\n   -1.8107   -3.8597    0.0000 C   0  0  0  0  0  0  0  0  0  0  0  0\\n   -3.2595   -4.2479    0.0000 C   0  0  0  0  0  0  0  0  0  0  0  0\\n   -3.6478   -5.6968    0.0000 C   0  0  0  0  0  0  0  0  0  0  0  0\\n   -2.5871   -6.7575    0.0000 C   0  0  0  0  0  0  0  0  0  0  0  0\\n   -2.9753   -8.2064    0.0000 N   0  0  0  0  0  4  0  0  0  0  0  0\\n   -4.4242   -8.5946    0.0000 C   0  0  0  0  0  0  0  0  0  0  0  0\\n   -4.0360  -10.0435    0.0000 C   0  0  0  0  0  0  0  0  0  0  0  0\\n   -4.8125   -7.1457    0.0000 C   0  0  0  0  0  0  0  0  0  0  0  0\\n   -5.8731   -8.9828    0.0000 C   0  0  0  0  0  0  0  0  0  0  0  0\\n   -1.9147   -9.2670    0.0000 C   0  0  0  0  0  0  0  0  0  0  0  0\\n   -2.9753  -10.3277    0.0000 C   0  0  0  0  0  0  0  0  0  0  0  0\\n   -0.8540   -8.2064    0.0000 C   0  0  0  0  0  0  0  0  0  0  0  0\\n   -0.8540  -10.3277    0.0000 C   0  0  0  0  0  0  0  0  0  0  0  0\\n   -1.1382   -6.3692    0.0000 C   0  0  0  0  0  0  0  0  0  0  0  0\\n   -0.7500   -4.9204    0.0000 C   0  0  0  0  0  0  0  0  0  0  0  0\\n    0.7500   -4.9204    0.0000 C   0  0  0  0  0  0  0  0  0  0  0  0\\n    1.3240   -6.3062    0.0000 O   0  0  0  0  0  0  0  0  0  0  0  0\\n  1  2  1  0\\n  2  3  1  0\\n  2  4  1  0\\n  2  5  1  0\\n  5  6  1  0\\n  6  7  1  0\\n  7  8  2  0\\n  7  9  1  0\\n  9 10  2  0\\n 10 11  1  0\\n 11 12  2  0\\n 12 13  1  0\\n 13 14  1  0\\n 14 15  2  0\\n 14 16  1  0\\n 16 17  2  0\\n 17 18  1  0\\n 18 19  2  0\\n 19 20  1  0\\n 19 21  1  0\\n 21 22  2  0\\n 12 23  1  0\\n 23 24  2  0\\n 24 25  1  0\\n 25 26  1  0\\n 26 27  2  0\\n 27 28  1  0\\n 28 29  2  0\\n 29 30  1  0\\n 30 31  1  0\\n 31 32  1  0\\n 31 33  1  0\\n 31 34  1  0\\n 30 35  1  0\\n 35 36  1  0\\n 35 37  1  0\\n 35 38  1  0\\n 29 39  1  0\\n 39 40  2  0\\n 40 41  1  0\\n 41 42  2  0\\n 41  6  1  0\\n 24  9  1  0\\n 40 26  1  0\\n 22 16  1  0\\nM  CHG  1  30   1\\nM  END\\n\");\n\tviewer_1697301471549115.setStyle({\"stick\": {}, \"sphere\": {\"radius\": 0.5}});\n\tviewer_1697301471549115.zoomTo();\nviewer_1697301471549115.render();\n});\n</script>",
      "text/html": [
       "<div id=\"3dmolviewer_1697301471549115\"  style=\"position: relative; width: 300px; height: 300px;\">\n",
       "        <p id=\"3dmolwarning_1697301471549115\" style=\"background-color:#ffcccc;color:black\">You appear to be running in JupyterLab (or JavaScript failed to load for some other reason).  You need to install the 3dmol extension: <br>\n",
       "        <tt>jupyter labextension install jupyterlab_3dmol</tt></p>\n",
       "        </div>\n",
       "<script>\n",
       "\n",
       "var loadScriptAsync = function(uri){\n",
       "  return new Promise((resolve, reject) => {\n",
       "    //this is to ignore the existence of requirejs amd\n",
       "    var savedexports, savedmodule;\n",
       "    if (typeof exports !== 'undefined') savedexports = exports;\n",
       "    else exports = {}\n",
       "    if (typeof module !== 'undefined') savedmodule = module;\n",
       "    else module = {}\n",
       "\n",
       "    var tag = document.createElement('script');\n",
       "    tag.src = uri;\n",
       "    tag.async = true;\n",
       "    tag.onload = () => {\n",
       "        exports = savedexports;\n",
       "        module = savedmodule;\n",
       "        resolve();\n",
       "    };\n",
       "  var firstScriptTag = document.getElementsByTagName('script')[0];\n",
       "  firstScriptTag.parentNode.insertBefore(tag, firstScriptTag);\n",
       "});\n",
       "};\n",
       "\n",
       "if(typeof $3Dmolpromise === 'undefined') {\n",
       "$3Dmolpromise = null;\n",
       "  $3Dmolpromise = loadScriptAsync('https://cdnjs.cloudflare.com/ajax/libs/3Dmol/2.0.4/3Dmol-min.js');\n",
       "}\n",
       "\n",
       "var viewer_1697301471549115 = null;\n",
       "var warn = document.getElementById(\"3dmolwarning_1697301471549115\");\n",
       "if(warn) {\n",
       "    warn.parentNode.removeChild(warn);\n",
       "}\n",
       "$3Dmolpromise.then(function() {\n",
       "viewer_1697301471549115 = $3Dmol.createViewer(document.getElementById(\"3dmolviewer_1697301471549115\"),{backgroundColor:\"white\"});\n",
       "viewer_1697301471549115.zoomTo();\n",
       "\tviewer_1697301471549115.addModel(\"\\n     RDKit          2D\\n\\n 42 45  0  0  0  0  0  0  0  0999 V2000\\n    5.2997   -4.7106    0.0000 C   0  0  0  0  0  0  0  0  0  0  0  0\\n    4.3865   -3.5206    0.0000 C   0  0  0  0  0  0  0  0  0  0  0  0\\n    3.7014   -2.3574    0.0000 C   0  0  0  0  0  0  0  0  0  0  0  0\\n    5.5765   -2.6074    0.0000 C   0  0  0  0  0  0  0  0  0  0  0  0\\n    3.1965   -4.4337    0.0000 C   0  0  0  0  0  0  0  0  0  0  0  0\\n    1.8107   -3.8597    0.0000 N   0  0  0  0  0  0  0  0  0  0  0  0\\n    1.8107   -2.3597    0.0000 C   0  0  0  0  0  0  0  0  0  0  0  0\\n    2.9856   -1.6949    0.0000 O   0  0  0  0  0  0  0  0  0  0  0  0\\n    0.7500   -1.2990    0.0000 C   0  0  0  0  0  0  0  0  0  0  0  0\\n    1.5000    0.0000    0.0000 C   0  0  0  0  0  0  0  0  0  0  0  0\\n    0.7500    1.2990    0.0000 C   0  0  0  0  0  0  0  0  0  0  0  0\\n   -0.7500    1.2990    0.0000 C   0  0  0  0  0  0  0  0  0  0  0  0\\n   -1.5000    2.5981    0.0000 N   0  0  0  0  0  0  0  0  0  0  0  0\\n   -0.7500    3.8971    0.0000 C   0  0  0  0  0  0  0  0  0  0  0  0\\n    0.7500    3.8971    0.0000 O   0  0  0  0  0  0  0  0  0  0  0  0\\n   -1.5000    5.1962    0.0000 C   0  0  0  0  0  0  0  0  0  0  0  0\\n   -0.7500    6.4952    0.0000 C   0  0  0  0  0  0  0  0  0  0  0  0\\n   -1.5000    7.7942    0.0000 C   0  0  0  0  0  0  0  0  0  0  0  0\\n   -3.0000    7.7942    0.0000 C   0  0  0  0  0  0  0  0  0  0  0  0\\n   -3.7500    9.0933    0.0000 C   0  0  0  0  0  0  0  0  0  0  0  0\\n   -3.7500    6.4952    0.0000 C   0  0  0  0  0  0  0  0  0  0  0  0\\n   -3.0000    5.1962    0.0000 C   0  0  0  0  0  0  0  0  0  0  0  0\\n   -1.5000    0.0000    0.0000 C   0  0  0  0  0  0  0  0  0  0  0  0\\n   -0.7500   -1.2990    0.0000 C   0  0  0  0  0  0  0  0  0  0  0  0\\n   -1.8107   -2.3597    0.0000 O   0  0  0  0  0  0  0  0  0  0  0  0\\n   -1.8107   -3.8597    0.0000 C   0  0  0  0  0  0  0  0  0  0  0  0\\n   -3.2595   -4.2479    0.0000 C   0  0  0  0  0  0  0  0  0  0  0  0\\n   -3.6478   -5.6968    0.0000 C   0  0  0  0  0  0  0  0  0  0  0  0\\n   -2.5871   -6.7575    0.0000 C   0  0  0  0  0  0  0  0  0  0  0  0\\n   -2.9753   -8.2064    0.0000 N   0  0  0  0  0  4  0  0  0  0  0  0\\n   -4.4242   -8.5946    0.0000 C   0  0  0  0  0  0  0  0  0  0  0  0\\n   -4.0360  -10.0435    0.0000 C   0  0  0  0  0  0  0  0  0  0  0  0\\n   -4.8125   -7.1457    0.0000 C   0  0  0  0  0  0  0  0  0  0  0  0\\n   -5.8731   -8.9828    0.0000 C   0  0  0  0  0  0  0  0  0  0  0  0\\n   -1.9147   -9.2670    0.0000 C   0  0  0  0  0  0  0  0  0  0  0  0\\n   -2.9753  -10.3277    0.0000 C   0  0  0  0  0  0  0  0  0  0  0  0\\n   -0.8540   -8.2064    0.0000 C   0  0  0  0  0  0  0  0  0  0  0  0\\n   -0.8540  -10.3277    0.0000 C   0  0  0  0  0  0  0  0  0  0  0  0\\n   -1.1382   -6.3692    0.0000 C   0  0  0  0  0  0  0  0  0  0  0  0\\n   -0.7500   -4.9204    0.0000 C   0  0  0  0  0  0  0  0  0  0  0  0\\n    0.7500   -4.9204    0.0000 C   0  0  0  0  0  0  0  0  0  0  0  0\\n    1.3240   -6.3062    0.0000 O   0  0  0  0  0  0  0  0  0  0  0  0\\n  1  2  1  0\\n  2  3  1  0\\n  2  4  1  0\\n  2  5  1  0\\n  5  6  1  0\\n  6  7  1  0\\n  7  8  2  0\\n  7  9  1  0\\n  9 10  2  0\\n 10 11  1  0\\n 11 12  2  0\\n 12 13  1  0\\n 13 14  1  0\\n 14 15  2  0\\n 14 16  1  0\\n 16 17  2  0\\n 17 18  1  0\\n 18 19  2  0\\n 19 20  1  0\\n 19 21  1  0\\n 21 22  2  0\\n 12 23  1  0\\n 23 24  2  0\\n 24 25  1  0\\n 25 26  1  0\\n 26 27  2  0\\n 27 28  1  0\\n 28 29  2  0\\n 29 30  1  0\\n 30 31  1  0\\n 31 32  1  0\\n 31 33  1  0\\n 31 34  1  0\\n 30 35  1  0\\n 35 36  1  0\\n 35 37  1  0\\n 35 38  1  0\\n 29 39  1  0\\n 39 40  2  0\\n 40 41  1  0\\n 41 42  2  0\\n 41  6  1  0\\n 24  9  1  0\\n 40 26  1  0\\n 22 16  1  0\\nM  CHG  1  30   1\\nM  END\\n\");\n",
       "\tviewer_1697301471549115.setStyle({\"stick\": {}, \"sphere\": {\"radius\": 0.5}});\n",
       "\tviewer_1697301471549115.zoomTo();\n",
       "viewer_1697301471549115.render();\n",
       "});\n",
       "</script>"
      ]
     },
     "metadata": {},
     "output_type": "display_data"
    },
    {
     "name": "stdout",
     "output_type": "stream",
     "text": [
      "\u001b[34massistant:\n",
      "\u001b[0m\n"
     ]
    },
    {
     "data": {
      "text/markdown": [
       "I have made a modification to the molecule to potentially make the material bouncier. However, it is important to note that the behavior and properties of the material would need to be evaluated through extensive testing and research.\n"
      ],
      "text/plain": [
       "<IPython.core.display.Markdown object>"
      ]
     },
     "metadata": {},
     "output_type": "display_data"
    }
   ],
   "source": [
    "messages.append({\"role\": \"user\", \n",
    "                 \"content\": '''Change the molecule to make this material bouncy. Render it.'''})\n",
    "messages = genapi.chat(messages, function_names, functions)\n",
    "notebook.print_chat(messages)"
   ]
  }
 ],
 "metadata": {
  "kernelspec": {
   "display_name": "Python 3 (ipykernel)",
   "language": "python",
   "name": "python3"
  },
  "language_info": {
   "codemirror_mode": {
    "name": "ipython",
    "version": 3
   },
   "file_extension": ".py",
   "mimetype": "text/x-python",
   "name": "python",
   "nbconvert_exporter": "python",
   "pygments_lexer": "ipython3",
   "version": "3.10.0"
  }
 },
 "nbformat": 4,
 "nbformat_minor": 5
}

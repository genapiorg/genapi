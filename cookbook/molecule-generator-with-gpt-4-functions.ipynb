{
 "cells": [
  {
   "attachments": {},
   "cell_type": "markdown",
   "id": "74f483a2-2d02-4ced-8bdb-523ef84cf7cd",
   "metadata": {},
   "source": [
    "## Molecule Inventor with GPT-4 Functions"
   ]
  },
  {
   "cell_type": "code",
   "execution_count": 1,
   "id": "7c3cb19e-9293-40b7-a763-cf2b0fec4198",
   "metadata": {},
   "outputs": [],
   "source": [
    "import sys\n",
    "import os\n",
    "import json\n",
    "import requests\n",
    "\n",
    "module_path = \"../code\"\n",
    "sys.path.append(os.path.abspath(module_path))\n",
    "from helpers import genapi, notebook\n",
    "from functions import render"
   ]
  },
  {
   "cell_type": "code",
   "execution_count": 2,
   "id": "459e462f-8d97-4021-a958-b426bb621fba",
   "metadata": {},
   "outputs": [],
   "source": [
    "functions = render.functions\n",
    "\n",
    "function_names = {\n",
    "    \"molecule\": render.molecule,\n",
    "}"
   ]
  },
  {
   "cell_type": "code",
   "execution_count": 3,
   "id": "ef06ecd4-ada2-483e-a29f-ec4f348fa156",
   "metadata": {},
   "outputs": [],
   "source": [
    "genapi.GPT_MODEL = \"gpt-4-turbo-0613\""
   ]
  },
  {
   "cell_type": "code",
   "execution_count": 4,
   "id": "a7b8950f-8779-4a1f-a284-b054e8ba9c0c",
   "metadata": {},
   "outputs": [],
   "source": [
    "messages = []\n",
    "messages.append(\n",
    "    {\n",
    "        \"role\": \"system\", \n",
    "        \"content\": '''Ask the user for arguments when calling a function. \n",
    "        Respond after understanding function response and user intent, if they expect,\n",
    "        function response only or\n",
    "        function response and your response.\n",
    "        Don't call the same function more than once for each user prompt.\n",
    "        Remain crisp and to the point in your responses.'''\n",
    "    })"
   ]
  },
  {
   "cell_type": "code",
   "execution_count": 5,
   "id": "8d510e86-1d64-400a-bd9e-fc2cf7a9ac37",
   "metadata": {},
   "outputs": [
    {
     "data": {
      "application/3dmoljs_load.v0": "<div id=\"3dmolviewer_1697382954492588\"  style=\"position: relative; width: 300px; height: 300px;\">\n        <p id=\"3dmolwarning_1697382954492588\" style=\"background-color:#ffcccc;color:black\">You appear to be running in JupyterLab (or JavaScript failed to load for some other reason).  You need to install the 3dmol extension: <br>\n        <tt>jupyter labextension install jupyterlab_3dmol</tt></p>\n        </div>\n<script>\n\nvar loadScriptAsync = function(uri){\n  return new Promise((resolve, reject) => {\n    //this is to ignore the existence of requirejs amd\n    var savedexports, savedmodule;\n    if (typeof exports !== 'undefined') savedexports = exports;\n    else exports = {}\n    if (typeof module !== 'undefined') savedmodule = module;\n    else module = {}\n\n    var tag = document.createElement('script');\n    tag.src = uri;\n    tag.async = true;\n    tag.onload = () => {\n        exports = savedexports;\n        module = savedmodule;\n        resolve();\n    };\n  var firstScriptTag = document.getElementsByTagName('script')[0];\n  firstScriptTag.parentNode.insertBefore(tag, firstScriptTag);\n});\n};\n\nif(typeof $3Dmolpromise === 'undefined') {\n$3Dmolpromise = null;\n  $3Dmolpromise = loadScriptAsync('https://cdnjs.cloudflare.com/ajax/libs/3Dmol/2.0.4/3Dmol-min.js');\n}\n\nvar viewer_1697382954492588 = null;\nvar warn = document.getElementById(\"3dmolwarning_1697382954492588\");\nif(warn) {\n    warn.parentNode.removeChild(warn);\n}\n$3Dmolpromise.then(function() {\nviewer_1697382954492588 = $3Dmol.createViewer(document.getElementById(\"3dmolviewer_1697382954492588\"),{backgroundColor:\"white\"});\nviewer_1697382954492588.zoomTo();\n\tviewer_1697382954492588.addModel(\"\\n     RDKit          2D\\n\\n 11 11  0  0  0  0  0  0  0  0999 V2000\\n    1.5000    0.0000    0.0000 C   0  0  0  0  0  0  0  0  0  0  0  0\\n    0.7500   -1.2990    0.0000 C   0  0  0  0  0  0  0  0  0  0  0  0\\n    1.5000   -2.5981    0.0000 O   0  0  0  0  0  0  0  0  0  0  0  0\\n   -0.7500   -1.2990    0.0000 N   0  0  0  0  0  0  0  0  0  0  0  0\\n   -1.5000   -2.5981    0.0000 C   0  0  0  0  0  0  0  0  0  0  0  0\\n   -1.5000    0.0000    0.0000 C   0  0  0  0  0  0  0  0  0  0  0  0\\n   -3.0000    0.0000    0.0000 O   0  0  0  0  0  0  0  0  0  0  0  0\\n   -0.7500    1.2990    0.0000 N   0  0  0  0  0  0  0  0  0  0  0  0\\n   -1.5000    2.5981    0.0000 C   0  0  0  0  0  0  0  0  0  0  0  0\\n    0.7500    1.2990    0.0000 C   0  0  0  0  0  0  0  0  0  0  0  0\\n    1.5000    2.5981    0.0000 O   0  0  0  0  0  0  0  0  0  0  0  0\\n  1  2  1  0\\n  2  3  2  0\\n  2  4  1  0\\n  4  5  1  0\\n  4  6  1  0\\n  6  7  2  0\\n  6  8  1  0\\n  8  9  1  0\\n  8 10  1  0\\n 10 11  2  0\\n 10  1  1  0\\nM  END\\n\");\n\tviewer_1697382954492588.setStyle({\"stick\": {}, \"sphere\": {\"radius\": 0.5}});\n\tviewer_1697382954492588.zoomTo();\nviewer_1697382954492588.render();\n});\n</script>",
      "text/html": [
       "<div id=\"3dmolviewer_1697382954492588\"  style=\"position: relative; width: 300px; height: 300px;\">\n",
       "        <p id=\"3dmolwarning_1697382954492588\" style=\"background-color:#ffcccc;color:black\">You appear to be running in JupyterLab (or JavaScript failed to load for some other reason).  You need to install the 3dmol extension: <br>\n",
       "        <tt>jupyter labextension install jupyterlab_3dmol</tt></p>\n",
       "        </div>\n",
       "<script>\n",
       "\n",
       "var loadScriptAsync = function(uri){\n",
       "  return new Promise((resolve, reject) => {\n",
       "    //this is to ignore the existence of requirejs amd\n",
       "    var savedexports, savedmodule;\n",
       "    if (typeof exports !== 'undefined') savedexports = exports;\n",
       "    else exports = {}\n",
       "    if (typeof module !== 'undefined') savedmodule = module;\n",
       "    else module = {}\n",
       "\n",
       "    var tag = document.createElement('script');\n",
       "    tag.src = uri;\n",
       "    tag.async = true;\n",
       "    tag.onload = () => {\n",
       "        exports = savedexports;\n",
       "        module = savedmodule;\n",
       "        resolve();\n",
       "    };\n",
       "  var firstScriptTag = document.getElementsByTagName('script')[0];\n",
       "  firstScriptTag.parentNode.insertBefore(tag, firstScriptTag);\n",
       "});\n",
       "};\n",
       "\n",
       "if(typeof $3Dmolpromise === 'undefined') {\n",
       "$3Dmolpromise = null;\n",
       "  $3Dmolpromise = loadScriptAsync('https://cdnjs.cloudflare.com/ajax/libs/3Dmol/2.0.4/3Dmol-min.js');\n",
       "}\n",
       "\n",
       "var viewer_1697382954492588 = null;\n",
       "var warn = document.getElementById(\"3dmolwarning_1697382954492588\");\n",
       "if(warn) {\n",
       "    warn.parentNode.removeChild(warn);\n",
       "}\n",
       "$3Dmolpromise.then(function() {\n",
       "viewer_1697382954492588 = $3Dmol.createViewer(document.getElementById(\"3dmolviewer_1697382954492588\"),{backgroundColor:\"white\"});\n",
       "viewer_1697382954492588.zoomTo();\n",
       "\tviewer_1697382954492588.addModel(\"\\n     RDKit          2D\\n\\n 11 11  0  0  0  0  0  0  0  0999 V2000\\n    1.5000    0.0000    0.0000 C   0  0  0  0  0  0  0  0  0  0  0  0\\n    0.7500   -1.2990    0.0000 C   0  0  0  0  0  0  0  0  0  0  0  0\\n    1.5000   -2.5981    0.0000 O   0  0  0  0  0  0  0  0  0  0  0  0\\n   -0.7500   -1.2990    0.0000 N   0  0  0  0  0  0  0  0  0  0  0  0\\n   -1.5000   -2.5981    0.0000 C   0  0  0  0  0  0  0  0  0  0  0  0\\n   -1.5000    0.0000    0.0000 C   0  0  0  0  0  0  0  0  0  0  0  0\\n   -3.0000    0.0000    0.0000 O   0  0  0  0  0  0  0  0  0  0  0  0\\n   -0.7500    1.2990    0.0000 N   0  0  0  0  0  0  0  0  0  0  0  0\\n   -1.5000    2.5981    0.0000 C   0  0  0  0  0  0  0  0  0  0  0  0\\n    0.7500    1.2990    0.0000 C   0  0  0  0  0  0  0  0  0  0  0  0\\n    1.5000    2.5981    0.0000 O   0  0  0  0  0  0  0  0  0  0  0  0\\n  1  2  1  0\\n  2  3  2  0\\n  2  4  1  0\\n  4  5  1  0\\n  4  6  1  0\\n  6  7  2  0\\n  6  8  1  0\\n  8  9  1  0\\n  8 10  1  0\\n 10 11  2  0\\n 10  1  1  0\\nM  END\\n\");\n",
       "\tviewer_1697382954492588.setStyle({\"stick\": {}, \"sphere\": {\"radius\": 0.5}});\n",
       "\tviewer_1697382954492588.zoomTo();\n",
       "viewer_1697382954492588.render();\n",
       "});\n",
       "</script>"
      ]
     },
     "metadata": {},
     "output_type": "display_data"
    },
    {
     "name": "stdout",
     "output_type": "stream",
     "text": [
      "\u001b[34massistant:\n",
      "\u001b[0m\n"
     ]
    },
    {
     "data": {
      "text/markdown": [
       "I have invented a new molecule that can make a material solid at room temperature. The molecular structure of the molecule is represented by the SMILES string: \"C1C(=O)N(C)C(=O)N(C)C1=O\". This molecule can potentially be used to create solid materials at room temperature.\n"
      ],
      "text/plain": [
       "<IPython.core.display.Markdown object>"
      ]
     },
     "metadata": {},
     "output_type": "display_data"
    }
   ],
   "source": [
    "messages.append({\"role\": \"user\", \n",
    "                 \"content\": '''Invent a new molecule which makes a material solid at room temperature.'''})\n",
    "messages = genapi.chat(messages, function_names, functions)\n",
    "notebook.print_chat(messages)"
   ]
  },
  {
   "cell_type": "code",
   "execution_count": 8,
   "id": "9a8144a7-fc22-41e2-bc44-214caab63361",
   "metadata": {},
   "outputs": [
    {
     "data": {
      "application/3dmoljs_load.v0": "<div id=\"3dmolviewer_1697383019192491\"  style=\"position: relative; width: 300px; height: 300px;\">\n        <p id=\"3dmolwarning_1697383019192491\" style=\"background-color:#ffcccc;color:black\">You appear to be running in JupyterLab (or JavaScript failed to load for some other reason).  You need to install the 3dmol extension: <br>\n        <tt>jupyter labextension install jupyterlab_3dmol</tt></p>\n        </div>\n<script>\n\nvar loadScriptAsync = function(uri){\n  return new Promise((resolve, reject) => {\n    //this is to ignore the existence of requirejs amd\n    var savedexports, savedmodule;\n    if (typeof exports !== 'undefined') savedexports = exports;\n    else exports = {}\n    if (typeof module !== 'undefined') savedmodule = module;\n    else module = {}\n\n    var tag = document.createElement('script');\n    tag.src = uri;\n    tag.async = true;\n    tag.onload = () => {\n        exports = savedexports;\n        module = savedmodule;\n        resolve();\n    };\n  var firstScriptTag = document.getElementsByTagName('script')[0];\n  firstScriptTag.parentNode.insertBefore(tag, firstScriptTag);\n});\n};\n\nif(typeof $3Dmolpromise === 'undefined') {\n$3Dmolpromise = null;\n  $3Dmolpromise = loadScriptAsync('https://cdnjs.cloudflare.com/ajax/libs/3Dmol/2.0.4/3Dmol-min.js');\n}\n\nvar viewer_1697383019192491 = null;\nvar warn = document.getElementById(\"3dmolwarning_1697383019192491\");\nif(warn) {\n    warn.parentNode.removeChild(warn);\n}\n$3Dmolpromise.then(function() {\nviewer_1697383019192491 = $3Dmol.createViewer(document.getElementById(\"3dmolviewer_1697383019192491\"),{backgroundColor:\"white\"});\nviewer_1697383019192491.zoomTo();\n\tviewer_1697383019192491.addModel(\"\\n     RDKit          2D\\n\\n 13 13  0  0  0  0  0  0  0  0999 V2000\\n    3.0000   -1.5000    0.0000 C   0  0  0  0  0  0  0  0  0  0  0  0\\n    3.0000    0.0000    0.0000 C   0  0  0  0  0  0  0  0  0  0  0  0\\n    3.0000    1.5000    0.0000 C   0  0  0  0  0  0  0  0  0  0  0  0\\n    4.5000    0.0000    0.0000 C   0  0  0  0  0  0  0  0  0  0  0  0\\n    1.5000    0.0000    0.0000 C   0  0  0  0  0  0  0  0  0  0  0  0\\n    0.7500   -1.2990    0.0000 C   0  0  0  0  0  0  0  0  0  0  0  0\\n   -0.7500   -1.2990    0.0000 C   0  0  0  0  0  0  0  0  0  0  0  0\\n   -1.5000   -2.5981    0.0000 O   0  0  0  0  0  0  0  0  0  0  0  0\\n   -1.5000    0.0000    0.0000 N   0  0  0  0  0  0  0  0  0  0  0  0\\n   -0.7500    1.2990    0.0000 C   0  0  0  0  0  0  0  0  0  0  0  0\\n   -1.5000    2.5981    0.0000 O   0  0  0  0  0  0  0  0  0  0  0  0\\n    0.7500    1.2990    0.0000 C   0  0  0  0  0  0  0  0  0  0  0  0\\n    1.5000    2.5981    0.0000 C   0  0  0  0  0  0  0  0  0  0  0  0\\n  1  2  1  0\\n  2  3  1  0\\n  2  4  1  0\\n  2  5  1  0\\n  5  6  2  0\\n  6  7  1  0\\n  7  8  2  0\\n  7  9  1  0\\n  9 10  1  0\\n 10 11  2  0\\n 10 12  1  0\\n 12 13  2  0\\n 12  5  1  0\\nM  END\\n\");\n\tviewer_1697383019192491.setStyle({\"stick\": {}, \"sphere\": {\"radius\": 0.5}});\n\tviewer_1697383019192491.zoomTo();\nviewer_1697383019192491.render();\n});\n</script>",
      "text/html": [
       "<div id=\"3dmolviewer_1697383019192491\"  style=\"position: relative; width: 300px; height: 300px;\">\n",
       "        <p id=\"3dmolwarning_1697383019192491\" style=\"background-color:#ffcccc;color:black\">You appear to be running in JupyterLab (or JavaScript failed to load for some other reason).  You need to install the 3dmol extension: <br>\n",
       "        <tt>jupyter labextension install jupyterlab_3dmol</tt></p>\n",
       "        </div>\n",
       "<script>\n",
       "\n",
       "var loadScriptAsync = function(uri){\n",
       "  return new Promise((resolve, reject) => {\n",
       "    //this is to ignore the existence of requirejs amd\n",
       "    var savedexports, savedmodule;\n",
       "    if (typeof exports !== 'undefined') savedexports = exports;\n",
       "    else exports = {}\n",
       "    if (typeof module !== 'undefined') savedmodule = module;\n",
       "    else module = {}\n",
       "\n",
       "    var tag = document.createElement('script');\n",
       "    tag.src = uri;\n",
       "    tag.async = true;\n",
       "    tag.onload = () => {\n",
       "        exports = savedexports;\n",
       "        module = savedmodule;\n",
       "        resolve();\n",
       "    };\n",
       "  var firstScriptTag = document.getElementsByTagName('script')[0];\n",
       "  firstScriptTag.parentNode.insertBefore(tag, firstScriptTag);\n",
       "});\n",
       "};\n",
       "\n",
       "if(typeof $3Dmolpromise === 'undefined') {\n",
       "$3Dmolpromise = null;\n",
       "  $3Dmolpromise = loadScriptAsync('https://cdnjs.cloudflare.com/ajax/libs/3Dmol/2.0.4/3Dmol-min.js');\n",
       "}\n",
       "\n",
       "var viewer_1697383019192491 = null;\n",
       "var warn = document.getElementById(\"3dmolwarning_1697383019192491\");\n",
       "if(warn) {\n",
       "    warn.parentNode.removeChild(warn);\n",
       "}\n",
       "$3Dmolpromise.then(function() {\n",
       "viewer_1697383019192491 = $3Dmol.createViewer(document.getElementById(\"3dmolviewer_1697383019192491\"),{backgroundColor:\"white\"});\n",
       "viewer_1697383019192491.zoomTo();\n",
       "\tviewer_1697383019192491.addModel(\"\\n     RDKit          2D\\n\\n 13 13  0  0  0  0  0  0  0  0999 V2000\\n    3.0000   -1.5000    0.0000 C   0  0  0  0  0  0  0  0  0  0  0  0\\n    3.0000    0.0000    0.0000 C   0  0  0  0  0  0  0  0  0  0  0  0\\n    3.0000    1.5000    0.0000 C   0  0  0  0  0  0  0  0  0  0  0  0\\n    4.5000    0.0000    0.0000 C   0  0  0  0  0  0  0  0  0  0  0  0\\n    1.5000    0.0000    0.0000 C   0  0  0  0  0  0  0  0  0  0  0  0\\n    0.7500   -1.2990    0.0000 C   0  0  0  0  0  0  0  0  0  0  0  0\\n   -0.7500   -1.2990    0.0000 C   0  0  0  0  0  0  0  0  0  0  0  0\\n   -1.5000   -2.5981    0.0000 O   0  0  0  0  0  0  0  0  0  0  0  0\\n   -1.5000    0.0000    0.0000 N   0  0  0  0  0  0  0  0  0  0  0  0\\n   -0.7500    1.2990    0.0000 C   0  0  0  0  0  0  0  0  0  0  0  0\\n   -1.5000    2.5981    0.0000 O   0  0  0  0  0  0  0  0  0  0  0  0\\n    0.7500    1.2990    0.0000 C   0  0  0  0  0  0  0  0  0  0  0  0\\n    1.5000    2.5981    0.0000 C   0  0  0  0  0  0  0  0  0  0  0  0\\n  1  2  1  0\\n  2  3  1  0\\n  2  4  1  0\\n  2  5  1  0\\n  5  6  2  0\\n  6  7  1  0\\n  7  8  2  0\\n  7  9  1  0\\n  9 10  1  0\\n 10 11  2  0\\n 10 12  1  0\\n 12 13  2  0\\n 12  5  1  0\\nM  END\\n\");\n",
       "\tviewer_1697383019192491.setStyle({\"stick\": {}, \"sphere\": {\"radius\": 0.5}});\n",
       "\tviewer_1697383019192491.zoomTo();\n",
       "viewer_1697383019192491.render();\n",
       "});\n",
       "</script>"
      ]
     },
     "metadata": {},
     "output_type": "display_data"
    },
    {
     "name": "stdout",
     "output_type": "stream",
     "text": [
      "\u001b[34massistant:\n",
      "\u001b[0m\n"
     ]
    },
    {
     "data": {
      "text/markdown": [
       "I have modified the molecule to potentially make the material bouncy. The updated molecular structure is represented by the SMILES string: \"CC(C)(C)C1=CC(=O)NC(=O)C1=C\". \n",
       "\n",
       "Please note that this is just a representation and the actual properties of the material may vary.\n"
      ],
      "text/plain": [
       "<IPython.core.display.Markdown object>"
      ]
     },
     "metadata": {},
     "output_type": "display_data"
    }
   ],
   "source": [
    "messages.append({\"role\": \"user\", \n",
    "                 \"content\": '''Change the molecule to make this material bouncy. Render it.'''})\n",
    "messages = genapi.chat(messages, function_names, functions)\n",
    "notebook.print_chat(messages)"
   ]
  }
 ],
 "metadata": {
  "kernelspec": {
   "display_name": "Python 3 (ipykernel)",
   "language": "python",
   "name": "python3"
  },
  "language_info": {
   "codemirror_mode": {
    "name": "ipython",
    "version": 3
   },
   "file_extension": ".py",
   "mimetype": "text/x-python",
   "name": "python",
   "nbconvert_exporter": "python",
   "pygments_lexer": "ipython3",
   "version": "3.10.0"
  }
 },
 "nbformat": 4,
 "nbformat_minor": 5
}
